{
 "cells": [
  {
   "cell_type": "code",
   "execution_count": null,
   "id": "35204034-4200-4397-9054-8559746df876",
   "metadata": {},
   "outputs": [],
   "source": [
    "import pandas as pd\n",
    "from sklearn.ensemble import RandomForestRegressor\n",
    "from sklearn.pipeline import make_pipeline\n",
    "from sklearn.preprocessing import StandardScaler\n",
    "from IPython.display import clear_output\n",
    "\n",
    "import spotipy\n",
    "from spotipy.oauth2 import SpotifyClientCredentials, SpotifyOAuth\n",
    "from spotipy import util\n",
    "\n",
    "from config import CLIENT_ID, CLIENT_SECRET, REDIRECT_URI"
   ]
  },
  {
   "cell_type": "markdown",
   "id": "32a0a90a-6cc5-4895-bfe2-96bd4757c682",
   "metadata": {},
   "source": [
    "# Functions"
   ]
  },
  {
   "cell_type": "code",
   "execution_count": null,
   "id": "2840fd2f-f30e-4cad-b127-d55ba44ab6a8",
   "metadata": {},
   "outputs": [],
   "source": [
    "def fetch_playlist_tracks(sp, playlistsid): \n",
    "    offset = 0\n",
    "    tracks = []\n",
    "\n",
    "    while True:\n",
    "        content = sp.playlist_tracks(playlistsid, fields=None, limit=100, offset=offset, market=None)\n",
    "        tracks += content[\"items\"]\n",
    "\n",
    "        if content[\"next\"] is not None:\n",
    "            offset += 100\n",
    "        else:\n",
    "            break\n",
    "    \n",
    "    track_id = []\n",
    "    track_name = []\n",
    "    track_artist = []\n",
    "    \n",
    "    for track in tracks:\n",
    "        track_id.append(track[\"track\"][\"id\"])\n",
    "        track_name.append(track[\"track\"][\"name\"])\n",
    "        track_artist.append(track[\"track\"][\"artists\"][0][\"name\"])\n",
    "    \n",
    "    df_playlists_tracks = pd.DataFrame({\"track_id\": track_id, \"track_name\": track_name, \"track_artist\": track_artist})\n",
    "    return df_playlists_tracks"
   ]
  },
  {
   "cell_type": "code",
   "execution_count": null,
   "id": "e44a8887-4a1f-41fe-a0ac-40e11caae2b6",
   "metadata": {},
   "outputs": [],
   "source": [
    "def fetch_playlists(sp, username):\n",
    "        \n",
    "    id = []\n",
    "    name = []\n",
    "    num_tracks = []\n",
    "    \n",
    "    # Make the API request\n",
    "    playlists = sp.user_playlists(username)\n",
    "    for playlist in playlists[\"items\"]:\n",
    "        id.append(playlist[\"id\"])\n",
    "        name.append(playlist[\"name\"])\n",
    "        num_tracks.append(playlist[\"tracks\"][\"total\"])# Create the final df   \n",
    "    df_playlists = pd.DataFrame({\"id\":id, \"name\": name, \"#tracks\": num_tracks})\n",
    "    return df_playlists"
   ]
  },
  {
   "cell_type": "code",
   "execution_count": null,
   "id": "0cfe1e5b-f03a-45a8-91e8-2782daa0ccf1",
   "metadata": {},
   "outputs": [],
   "source": [
    "def create_playlist(sp, username, playlist_name, playlist_description):\n",
    "    new_playlist = sp.user_playlist_create(username, playlist_name, description = playlist_description)\n",
    "    return new_playlist[\"id\"]"
   ]
  },
  {
   "cell_type": "code",
   "execution_count": null,
   "id": "890aa3f5-c83c-45d9-9eef-a5b2658e28f3",
   "metadata": {},
   "outputs": [],
   "source": [
    "def fill_playlist(sp, username, playlist_id, playlist_tracks):\n",
    "    index = 0\n",
    "    results = []\n",
    "    \n",
    "    while index < len(playlist_tracks):\n",
    "        results += sp.user_playlist_add_tracks(username, playlist_id, tracks = playlist_tracks[\"id\"][index:index + 50])\n",
    "        index += 50"
   ]
  },
  {
   "cell_type": "markdown",
   "id": "8b1c9f1b-96ac-4c2e-9829-59ced54922bf",
   "metadata": {},
   "source": [
    "# Access"
   ]
  },
  {
   "cell_type": "code",
   "execution_count": null,
   "id": "e5ea9424-5946-42cf-9536-91ae1575dd1a",
   "metadata": {},
   "outputs": [],
   "source": [
    "scope = \"user-top-read playlist-read-private playlist-modify-public user-library-read\"\n",
    "\n",
    "spotifyOAuth = SpotifyOAuth(client_id=CLIENT_ID, client_secret=CLIENT_SECRET, redirect_uri=REDIRECT_URI, scope=scope)\n",
    "token = spotifyOAuth.get_cached_token()\n",
    "sp = spotipy.Spotify(auth=token[\"access_token\"])"
   ]
  },
  {
   "cell_type": "code",
   "execution_count": null,
   "id": "012de3c8-949c-4110-8684-16a2d62c7c35",
   "metadata": {},
   "outputs": [],
   "source": [
    "user_id = sp.current_user()[\"id\"]"
   ]
  },
  {
   "cell_type": "markdown",
   "id": "a0e74953-d2b2-4785-bb76-45b096801c26",
   "metadata": {},
   "source": [
    "# User top tracks"
   ]
  },
  {
   "cell_type": "code",
   "execution_count": null,
   "id": "2df83b90-057a-43a5-acf1-572bc9ebe7b6",
   "metadata": {},
   "outputs": [],
   "source": [
    "user_top_tracks = sp.current_user_top_tracks(limit=100, offset=0,time_range=\"medium_term\")"
   ]
  },
  {
   "cell_type": "code",
   "execution_count": null,
   "id": "dfd8f0cd-4b00-43d8-8526-592b8c9057d4",
   "metadata": {},
   "outputs": [],
   "source": [
    "top_tracks = pd.DataFrame()\n",
    "\n",
    "for track in user_top_tracks[\"items\"]:\n",
    "    track_info = {}\n",
    "    track_info[\"track_name\"] = track[\"name\"]\n",
    "    track_info[\"album\"] = track[\"album\"][\"name\"]\n",
    "    track_info[\"track_id\"] = track[\"id\"]\n",
    "    track_info[\"artist\"] = track[\"artists\"][0][\"name\"]\n",
    "    track_info[\"duration\"] = track[\"duration_ms\"]\n",
    "    track_info[\"popularity\"] = track[\"popularity\"]\n",
    "    top_tracks = top_tracks.append(pd.Series(track_info), ignore_index=True)\n",
    "top_tracks.sort_values(by=\"popularity\", ascending=False).head(10)"
   ]
  },
  {
   "cell_type": "markdown",
   "id": "1848df42-4eac-49db-b3c6-3c1b3adeaa8a",
   "metadata": {},
   "source": [
    "## Track features"
   ]
  },
  {
   "cell_type": "code",
   "execution_count": null,
   "id": "70536e23-e72e-4bfe-a681-6de974f68c77",
   "metadata": {},
   "outputs": [],
   "source": [
    "top_tracks_features_df = pd.DataFrame()\n",
    "features_names = [\"danceability\", \"energy\", \"valence\", \"tempo\",\"loudness\", \"speechiness\", \"instrumentalness\", \"acousticness\", \"liveness\"]\n",
    "top_tracks_features = sp.audio_features(top_tracks[\"track_id\"])\n",
    "for track in top_tracks_features:\n",
    "    features_info = {key: track[key] for key in features_names+[\"id\"]}\n",
    "    top_tracks_features_df = top_tracks_features_df.append(pd.Series(features_info), ignore_index=True)\n",
    "top_tracks_features_df.head()"
   ]
  },
  {
   "cell_type": "markdown",
   "id": "657c71df-765e-46c2-8622-764f7532401b",
   "metadata": {},
   "source": [
    "# User playlists"
   ]
  },
  {
   "cell_type": "code",
   "execution_count": null,
   "id": "fbf28810-9f85-4c62-a8a0-25b1e6b30f01",
   "metadata": {},
   "outputs": [],
   "source": [
    "fetch_playlists(sp, user_id)"
   ]
  },
  {
   "cell_type": "markdown",
   "id": "b4cae639-53fe-4f2d-8433-41cb3e045176",
   "metadata": {},
   "source": [
    "# AI playlist"
   ]
  },
  {
   "cell_type": "markdown",
   "id": "387f108a-b408-4cd1-99f3-3600bc3c6040",
   "metadata": {},
   "source": [
    "Playlist generated using a Random Forest trained on user top tracks"
   ]
  },
  {
   "cell_type": "markdown",
   "id": "5bb8465a-ce11-45db-b507-d23185f743da",
   "metadata": {},
   "source": [
    "## Select cadidate playlists and tracks"
   ]
  },
  {
   "cell_type": "code",
   "execution_count": null,
   "id": "0fb1df1c-38ba-413c-a433-90fa538e180f",
   "metadata": {},
   "outputs": [],
   "source": [
    "user_playlists = sp.user_playlists(user_id)[\"items\"]"
   ]
  },
  {
   "cell_type": "code",
   "execution_count": null,
   "id": "7153de0d-8159-4923-9928-28876b33550d",
   "metadata": {},
   "outputs": [],
   "source": [
    "search_key = \"Before\"\n",
    "#search_key = []\n",
    "\n",
    "if type(search_key) is str and len(search_key)>0:\n",
    "    searched_playlists = [x for x in user_playlists if search_key in x[\"name\"]]\n",
    "elif type(search_key) is list and len(search_key)>0:\n",
    "    searched_playlists = [x for x in user_playlists if x[\"name\"] in search_key]\n",
    "else:\n",
    "    searched_playlists = []\n",
    "    \n",
    "print(\"Founded {} playlists\".format(len(searched_playlists)))"
   ]
  },
  {
   "cell_type": "code",
   "execution_count": null,
   "id": "7958a25f-9528-4ab8-8b74-2a6d168120ac",
   "metadata": {},
   "outputs": [],
   "source": [
    "searched_df = pd.DataFrame()\n",
    "\n",
    "for playlist in searched_playlists:\n",
    "    playlist_info = {}\n",
    "    playlist_info[\"name\"] = playlist[\"name\"]\n",
    "    playlist_info[\"id\"] = playlist[\"id\"]\n",
    "    searched_df = searched_df.append(pd.Series(playlist_info), ignore_index=True)\n",
    "searched_df"
   ]
  },
  {
   "cell_type": "code",
   "execution_count": null,
   "id": "0152d66d-af50-4507-a5f1-484f768b691b",
   "metadata": {},
   "outputs": [],
   "source": [
    "searched_tracks_df = pd.DataFrame(columns=[\"track_id\", \"track_name\"])\n",
    "for playlist in searched_df[\"id\"]:\n",
    "    tracks = fetch_playlist_tracks(sp, playlist)\n",
    "    searched_tracks_df = searched_tracks_df.append(tracks, ignore_index=True)\n",
    "searched_tracks_df.head()"
   ]
  },
  {
   "cell_type": "code",
   "execution_count": null,
   "id": "46e1e622-7c9f-4b53-aeb8-d64e2c3bf408",
   "metadata": {},
   "outputs": [],
   "source": [
    "index = 0\n",
    "size = 100\n",
    "\n",
    "tracks_features_df = pd.DataFrame()\n",
    "features_names = [\"danceability\", \"energy\", \"valence\", \"tempo\",\"loudness\", \"speechiness\", \"instrumentalness\", \"acousticness\", \"liveness\"]\n",
    "\n",
    "while index < searched_tracks_df.shape[0]:\n",
    "    tracks_features = sp.audio_features(searched_tracks_df[\"track_id\"][range(index, min(searched_tracks_df.shape[0], index+size))])\n",
    "    for track in tracks_features:\n",
    "        features_info = {key: track[key] for key in features_names + [\"id\"]}\n",
    "        features_info[\"track_name\"] = searched_tracks_df[searched_tracks_df[\"track_id\"]==features_info[\"id\"]][\"track_name\"].values[0]\n",
    "        tracks_features_df = tracks_features_df.append(pd.Series(features_info), ignore_index=True)\n",
    "    index += size\n",
    "tracks_features_df = tracks_features_df.drop_duplicates()\n",
    "tracks_features_df.head()"
   ]
  },
  {
   "cell_type": "markdown",
   "id": "93894d6f-f333-47c5-996c-50df2d3a0bcb",
   "metadata": {},
   "source": [
    "## Model Training"
   ]
  },
  {
   "cell_type": "code",
   "execution_count": null,
   "id": "dd4a8a08-ac21-4627-b91b-6caaa6f606f4",
   "metadata": {},
   "outputs": [],
   "source": [
    "top_tracks_X = pd.merge(top_tracks, top_tracks_features_df, left_on=\"track_id\", right_on=\"id\")\n",
    "top_tracks_y = top_tracks_X[\"popularity\"]\n",
    "top_tracks_X = top_tracks_X.drop([\"track_id\", \"popularity\"], axis=1)"
   ]
  },
  {
   "cell_type": "code",
   "execution_count": null,
   "id": "a8ab211c-97fd-4405-a5f2-5c5dd79d35e0",
   "metadata": {},
   "outputs": [],
   "source": [
    "model = RandomForestRegressor(random_state=42)\n",
    "model = model.fit(top_tracks_X[features_names], top_tracks_y)"
   ]
  },
  {
   "cell_type": "markdown",
   "id": "c68a9190-8fdf-4a49-87d8-620f7702f890",
   "metadata": {},
   "source": [
    "## Tracks popularity evaluation"
   ]
  },
  {
   "cell_type": "code",
   "execution_count": null,
   "id": "aaf99a54-df6e-4550-9e86-9afb6f8097ec",
   "metadata": {},
   "outputs": [],
   "source": [
    "tracks_features_df[\"popularity\"] = model.predict(tracks_features_df[features_names])\n",
    "tracks_features_df.sort_values(by=\"popularity\", ascending=False).head()"
   ]
  },
  {
   "cell_type": "markdown",
   "id": "5d614816-43b2-441e-af94-f19d3dc9face",
   "metadata": {},
   "source": [
    "## Playlist Creation"
   ]
  },
  {
   "cell_type": "code",
   "execution_count": null,
   "id": "3d3750f1-0b3e-481e-9f9a-95e382266700",
   "metadata": {},
   "outputs": [],
   "source": [
    "top_tracks_searched = tracks_features_df.sort_values(by=\"popularity\", ascending=False).head(50)\n",
    "top_tracks_searched.head()"
   ]
  },
  {
   "cell_type": "code",
   "execution_count": null,
   "id": "e579064a-d41c-46c1-859b-98bc36a4c8ea",
   "metadata": {},
   "outputs": [],
   "source": [
    "playlist_name = \"Lazy Playlist\"\n",
    "playlist_desc = \"Playlist created with Python\"\n",
    "\n",
    "new_playlist_id = create_playlist(sp, user_id, playlist_name, playlist_desc)"
   ]
  },
  {
   "cell_type": "code",
   "execution_count": null,
   "id": "29293a77-81d5-4c5f-8e53-89b3e3a39e85",
   "metadata": {},
   "outputs": [],
   "source": [
    "fill_playlist(sp, user_id, new_playlist_id, top_tracks_searched)"
   ]
  },
  {
   "cell_type": "code",
   "execution_count": null,
   "id": "18e520ee-c446-4386-82c9-d0216e1dc21d",
   "metadata": {},
   "outputs": [],
   "source": [
    "fetch_playlists(sp, user_id).head()"
   ]
  },
  {
   "cell_type": "code",
   "execution_count": null,
   "id": "847578cd-d18e-47db-91ec-eea11e1183b6",
   "metadata": {},
   "outputs": [],
   "source": []
  }
 ],
 "metadata": {
  "kernelspec": {
   "display_name": "Python 3 (ipykernel)",
   "language": "python",
   "name": "python3"
  },
  "language_info": {
   "codemirror_mode": {
    "name": "ipython",
    "version": 3
   },
   "file_extension": ".py",
   "mimetype": "text/x-python",
   "name": "python",
   "nbconvert_exporter": "python",
   "pygments_lexer": "ipython3",
   "version": "3.9.7"
  }
 },
 "nbformat": 4,
 "nbformat_minor": 5
}
